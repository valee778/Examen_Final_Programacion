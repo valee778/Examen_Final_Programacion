{
  "nbformat": 4,
  "nbformat_minor": 0,
  "metadata": {
    "colab": {
      "provenance": []
    },
    "kernelspec": {
      "name": "python3",
      "display_name": "Python 3"
    },
    "language_info": {
      "name": "python"
    }
  },
  "cells": [
    {
      "cell_type": "code",
      "source": [
        "import pandas as pd\n",
        "from sklearn.preprocessing import LabelEncoder\n",
        "from sklearn.model_selection import train_test_split\n",
        "\n",
        "column_names = [\n",
        "    'class', 'cap-shape', 'cap-surface', 'cap-color', 'bruises', 'odor',\n",
        "    'gill-attachment', 'gill-spacing', 'gill-size', 'gill-color',\n",
        "    'stalk-shape', 'stalk-root', 'stalk-surface-above-ring',\n",
        "    'stalk-surface-below-ring', 'stalk-color-above-ring',\n",
        "    'stalk-color-below-ring', 'veil-type', 'veil-color', 'ring-number',\n",
        "    'ring-type', 'spore-print-color', 'population', 'habitat'\n",
        "]\n",
        "df = pd.read_csv('agaricus-lepiota.data', header=None, names=column_names)\n",
        "\n",
        "df.replace('?', pd.NA, inplace=True)\n",
        "df = df.dropna()\n",
        "\n",
        "label_encoders = {}\n",
        "for col in df.columns:\n",
        "    le = LabelEncoder()\n",
        "    df[col] = le.fit_transform(df[col])\n",
        "    label_encoders[col] = le\n",
        "\n",
        "X = df.drop('class', axis=1)\n",
        "y = df['class']\n",
        "\n",
        "X_train, X_test, y_train, y_test = train_test_split(X, y, test_size=0.2, random_state=42)\n",
        "\n",
        "print(\"Tamaño del conjunto de entrenamiento:\", X_train.shape)\n",
        "print(\"Tamaño del conjunto de prueba:\", X_test.shape)"
      ],
      "metadata": {
        "colab": {
          "base_uri": "https://localhost:8080/"
        },
        "id": "mXcF1ytsnzWA",
        "outputId": "d4694516-ac63-483a-b2f4-519d2be2396d"
      },
      "execution_count": null,
      "outputs": [
        {
          "output_type": "stream",
          "name": "stdout",
          "text": [
            "Tamaño del conjunto de entrenamiento: (9, 22)\n",
            "Tamaño del conjunto de prueba: (3, 22)\n"
          ]
        }
      ]
    },
    {
      "cell_type": "code",
      "execution_count": null,
      "metadata": {
        "colab": {
          "base_uri": "https://localhost:8080/"
        },
        "id": "gDoC_IfWnnkO",
        "outputId": "4ea70eac-a4c3-42d4-f47c-9d09a49f93e0"
      },
      "outputs": [
        {
          "output_type": "stream",
          "name": "stdout",
          "text": [
            "Comparación de modelos:\n",
            "\n",
            "Precisión Árbol de Decisión: 1.0000\n",
            "Precisión Random Forest:    1.0000\n",
            "\n",
            " Ambos modelos tuvieron la misma precisión.\n"
          ]
        }
      ],
      "source": [
        "from sklearn.metrics import accuracy_score\n",
        "\n",
        "from sklearn.tree import DecisionTreeClassifier\n",
        "modelo_arbol = DecisionTreeClassifier(random_state=42)\n",
        "modelo_arbol.fit(X_train, y_train)\n",
        "pred_arbol = modelo_arbol.predict(X_test)\n",
        "\n",
        "from sklearn.ensemble import RandomForestClassifier\n",
        "modelo_rf = RandomForestClassifier(n_estimators=100, random_state=42)\n",
        "modelo_rf.fit(X_train, y_train)\n",
        "pred_rf = modelo_rf.predict(X_test)\n",
        "\n",
        "acc_arbol = accuracy_score(y_test, pred_arbol)\n",
        "acc_rf = accuracy_score(y_test, pred_rf)\n",
        "\n",
        "print(\"Comparación de modelos:\\n\")\n",
        "print(f\"Precisión Árbol de Decisión: {acc_arbol:.4f}\")\n",
        "print(f\"Precisión Random Forest:    {acc_rf:.4f}\")\n",
        "\n",
        "if acc_rf > acc_arbol:\n",
        "    print(\"\\n El modelo de Random Forest tuvo mejor precisión.\")\n",
        "elif acc_rf < acc_arbol:\n",
        "    print(\"\\n El modelo de Árbol de Decisión tuvo mejor precisión.\")\n",
        "else:\n",
        "    print(\"\\n Ambos modelos tuvieron la misma precisión.\")\n"
      ]
    }
  ]
}