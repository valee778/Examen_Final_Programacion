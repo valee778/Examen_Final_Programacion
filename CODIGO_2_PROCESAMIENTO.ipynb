{
  "nbformat": 4,
  "nbformat_minor": 0,
  "metadata": {
    "colab": {
      "provenance": []
    },
    "kernelspec": {
      "name": "python3",
      "display_name": "Python 3"
    },
    "language_info": {
      "name": "python"
    }
  },
  "cells": [
    {
      "cell_type": "code",
      "execution_count": null,
      "metadata": {
        "colab": {
          "base_uri": "https://localhost:8080/"
        },
        "id": "taF4bie-fW-2",
        "outputId": "2b526747-48b4-4edb-e3bd-c958fedfcde8"
      },
      "outputs": [
        {
          "output_type": "stream",
          "name": "stdout",
          "text": [
            "Tamaño del conjunto de entrenamiento: (9, 22)\n",
            "Tamaño del conjunto de prueba: (3, 22)\n"
          ]
        }
      ],
      "source": [
        "import pandas as pd\n",
        "from sklearn.preprocessing import LabelEncoder\n",
        "from sklearn.model_selection import train_test_split\n",
        "\n",
        "column_names = [\n",
        "    'class', 'cap-shape', 'cap-surface', 'cap-color', 'bruises', 'odor',\n",
        "    'gill-attachment', 'gill-spacing', 'gill-size', 'gill-color',\n",
        "    'stalk-shape', 'stalk-root', 'stalk-surface-above-ring',\n",
        "    'stalk-surface-below-ring', 'stalk-color-above-ring',\n",
        "    'stalk-color-below-ring', 'veil-type', 'veil-color', 'ring-number',\n",
        "    'ring-type', 'spore-print-color', 'population', 'habitat'\n",
        "]\n",
        "df = pd.read_csv('agaricus-lepiota.data', header=None, names=column_names)\n",
        "\n",
        "df.replace('?', pd.NA, inplace=True)\n",
        "df = df.dropna()\n",
        "\n",
        "label_encoders = {}\n",
        "for col in df.columns:\n",
        "    le = LabelEncoder()\n",
        "    df[col] = le.fit_transform(df[col])\n",
        "    label_encoders[col] = le\n",
        "\n",
        "X = df.drop('class', axis=1)\n",
        "y = df['class']\n",
        "\n",
        "X_train, X_test, y_train, y_test = train_test_split(X, y, test_size=0.2, random_state=42)\n",
        "\n",
        "print(\"Tamaño del conjunto de entrenamiento:\", X_train.shape)\n",
        "print(\"Tamaño del conjunto de prueba:\", X_test.shape)"
      ]
    }
  ]
}